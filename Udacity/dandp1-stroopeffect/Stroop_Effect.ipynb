{
 "cells": [
  {
   "cell_type": "markdown",
   "metadata": {},
   "source": [
    "# Statistics: The Science of Decisions Project Instructions\n",
    "\n",
    "## Background Information\n",
    "\n",
    "In a Stroop task, participants are presented with a list of words, with each word displayed in a color of ink. The participant's task is to say out loud the color of the ink in which the word is printed. The task has two conditions: a congruent words condition, and an incongruent words condition. In the congruent words condition, the words being displayed are color words whose names match the colors in which they are printed: for example <span style=\"color:red\">RED</span>, <span style=\"color:blue\">BLUE</span>. In the incongruent words condition, the words displayed are color words whose names do not match the colors in which they are printed: for example <span style=\"color:#6aa84f\">PURPLE</span>, <span style=\"color:#674ea7\">ORANGE</span>. In each case, we measure the time it takes to name the ink colors in equally-sized lists. Each participant will go through and record a time from each condition.\n",
    "\n",
    "\n",
    "## Questions For Investigation\n",
    "\n",
    "As a general note, be sure to keep a record of any resources that you use or refer to in the creation of your project. You will need to report your sources as part of the project submission.\n",
    "\n",
    "1. What is our independent variable? What is our dependent variable?\n",
    "2. What is an appropriate set of hypotheses for this task? What kind of statistical test do you expect to perform? Justify your choices.\n",
    "> Now it’s your chance to try out the Stroop task for yourself. Go to [this link](https://www.google.com/url?q=https://faculty.washington.edu/chudler/java/ready.html&sa=D&ust=1470799575554000&usg=AFQjCNFJcpMb1UfjJKeDZ8ltppjJl66hnw), which has a Java-based applet for performing the Stroop task. Record the times that you received on the task (you do not need to submit your times to the site.) Now, download [this dataset](https://www.google.com/url?q=https://drive.google.com/file/d/0B9Yf01UaIbUgQXpYb2NhZ29yX1U/view?usp%3Dsharing&sa=D&ust=1470799575555000&usg=AFQjCNELyNaokcbc4I6u4zojJRQwzScsiw) which contains results from a number of participants in the task. Each row of the dataset contains the performance for one participant, with the first number their results on the congruent task and the second number their performance on the incongruent task.\n",
    "\n",
    "3. Report some descriptive statistics regarding this dataset. Include at least one measure of central tendency and at least one measure of variability.\n",
    "4. Provide one or two visualizations that show the distribution of the sample data. Write one or two sentences noting what you observe about the plot or plots.\n",
    "5. Now, perform the statistical test and report your results. What is your confidence level and your critical statistic value? Do you reject the null hypothesis or fail to reject it? Come to a conclusion in terms of the experiment task. Did the results match up with your expectations?\n",
    "6. Optional: What do you think is responsible for the effects observed? Can you think of an alternative or similar task that would result in a similar effect? Some research about the problem will be helpful for thinking about these two questions!"
   ]
  },
  {
   "cell_type": "markdown",
   "metadata": {},
   "source": [
    "## Question 1\n",
    "\n",
    "**What is our independent variable?**\n",
    "> The independent variable is whether or not the task was congruent or incongruent.\n",
    "\n",
    "\n",
    "**What is our dependent variable?**\n",
    "> The dependent variable is time to complete the task.\n",
    "\n",
    "*Rubric:  Question response correctly identifies the independent and dependent variables in the experiment.*"
   ]
  },
  {
   "cell_type": "markdown",
   "metadata": {},
   "source": [
    "## Question 2\n",
    "\n",
    "**What is an appropriate set of hypotheses for this task?**\n",
    "> The null hypothesis is that the there is not a significant difference in the average time it takes to complete each task.  $\\mu_C$ represents the the mean time for the Congruent group.  $\\mu_I$ represents the mean time for the Incongruent group.\n",
    "\n",
    "> $$H_0: \\mu_C = \\mu_I $$\n",
    "\n",
    "> The alternative hypothesis is that the mean for the Congruent group will be significantly less than the mean for the Incongruent group.\n",
    "\n",
    "> $$H_a: \\mu_C < \\mu_I $$\n",
    "\n",
    "*Rubric:  Null and alternative hypotheses are clearly stated in words and mathematically. Symbols in the mathematical statement are defined.*\n",
    "\n",
    "**What kind of statistical test do you expect to perform?**\n",
    "> The Stroop Effect test consists of two tasks performed by the same participant.  Because the results are related through the participant, a $t$-test for dependent means should be performed.  This can determine if the two means are statistically different.\n",
    "\n",
    "*Rubric:  A statistical test is proposed which will distinguish the proposed hypotheses. Any assumptions made by the statistical test are addressed.*\n",
    "\n"
   ]
  },
  {
   "cell_type": "markdown",
   "metadata": {},
   "source": [
    "## Question 3\n",
    "\n",
    "**Report some descriptive statistics regarding this dataset. Include at least one measure of central tendency and at least one measure of variability.**\n",
    "> *See below output from df.describe()*\n",
    "\n",
    "> Mean values are 14.05 for Congruent, and 22.02 for Incongruent.\n",
    "\n",
    "> Standard deviation values are 3.56 for Congruent, and 4.80 for Incongruent.  *(Note: Pandas default standard deviation calculation assumes n-1 degrees of freedom)*\n",
    "\n",
    "*Rubric:  Descriptive statistics, including at least one measure of centrality and one measure of variability, have been computed for the dataset’s groups.*"
   ]
  },
  {
   "cell_type": "code",
   "execution_count": 1,
   "metadata": {
    "collapsed": true
   },
   "outputs": [],
   "source": [
    "%matplotlib inline\n",
    "\n",
    "import matplotlib.pyplot as plt\n",
    "import seaborn as sns\n",
    "import pandas as pd\n",
    "import numpy as np\n",
    "from scipy.stats import t\n",
    "\n",
    "sns.set()\n",
    "sns.set_style(\"dark\")\n",
    "sns.set_color_codes()"
   ]
  },
  {
   "cell_type": "code",
   "execution_count": 2,
   "metadata": {
    "collapsed": false
   },
   "outputs": [
    {
     "data": {
      "text/html": [
       "<div>\n",
       "<table border=\"1\" class=\"dataframe\">\n",
       "  <thead>\n",
       "    <tr style=\"text-align: right;\">\n",
       "      <th></th>\n",
       "      <th>Congruent</th>\n",
       "      <th>Incongruent</th>\n",
       "      <th>Difference</th>\n",
       "    </tr>\n",
       "  </thead>\n",
       "  <tbody>\n",
       "    <tr>\n",
       "      <th>0</th>\n",
       "      <td>12.079</td>\n",
       "      <td>19.278</td>\n",
       "      <td>-7.199</td>\n",
       "    </tr>\n",
       "    <tr>\n",
       "      <th>1</th>\n",
       "      <td>16.791</td>\n",
       "      <td>18.741</td>\n",
       "      <td>-1.950</td>\n",
       "    </tr>\n",
       "    <tr>\n",
       "      <th>2</th>\n",
       "      <td>9.564</td>\n",
       "      <td>21.214</td>\n",
       "      <td>-11.650</td>\n",
       "    </tr>\n",
       "    <tr>\n",
       "      <th>3</th>\n",
       "      <td>8.630</td>\n",
       "      <td>15.687</td>\n",
       "      <td>-7.057</td>\n",
       "    </tr>\n",
       "    <tr>\n",
       "      <th>4</th>\n",
       "      <td>14.669</td>\n",
       "      <td>22.803</td>\n",
       "      <td>-8.134</td>\n",
       "    </tr>\n",
       "  </tbody>\n",
       "</table>\n",
       "</div>"
      ],
      "text/plain": [
       "   Congruent  Incongruent  Difference\n",
       "0     12.079       19.278      -7.199\n",
       "1     16.791       18.741      -1.950\n",
       "2      9.564       21.214     -11.650\n",
       "3      8.630       15.687      -7.057\n",
       "4     14.669       22.803      -8.134"
      ]
     },
     "execution_count": 2,
     "metadata": {},
     "output_type": "execute_result"
    }
   ],
   "source": [
    "df = pd.read_csv('stroopdata.csv')\n",
    "df['Difference'] = df['Congruent'] - df['Incongruent']\n",
    "df.head()"
   ]
  },
  {
   "cell_type": "code",
   "execution_count": 3,
   "metadata": {
    "collapsed": false
   },
   "outputs": [
    {
     "data": {
      "text/html": [
       "<div>\n",
       "<table border=\"1\" class=\"dataframe\">\n",
       "  <thead>\n",
       "    <tr style=\"text-align: right;\">\n",
       "      <th></th>\n",
       "      <th>Congruent</th>\n",
       "      <th>Incongruent</th>\n",
       "      <th>Difference</th>\n",
       "    </tr>\n",
       "  </thead>\n",
       "  <tbody>\n",
       "    <tr>\n",
       "      <th>count</th>\n",
       "      <td>24.000000</td>\n",
       "      <td>24.000000</td>\n",
       "      <td>24.000000</td>\n",
       "    </tr>\n",
       "    <tr>\n",
       "      <th>mean</th>\n",
       "      <td>14.051125</td>\n",
       "      <td>22.015917</td>\n",
       "      <td>-7.964792</td>\n",
       "    </tr>\n",
       "    <tr>\n",
       "      <th>std</th>\n",
       "      <td>3.559358</td>\n",
       "      <td>4.797057</td>\n",
       "      <td>4.864827</td>\n",
       "    </tr>\n",
       "    <tr>\n",
       "      <th>min</th>\n",
       "      <td>8.630000</td>\n",
       "      <td>15.687000</td>\n",
       "      <td>-21.919000</td>\n",
       "    </tr>\n",
       "    <tr>\n",
       "      <th>25%</th>\n",
       "      <td>11.895250</td>\n",
       "      <td>18.716750</td>\n",
       "      <td>-10.258500</td>\n",
       "    </tr>\n",
       "    <tr>\n",
       "      <th>50%</th>\n",
       "      <td>14.356500</td>\n",
       "      <td>21.017500</td>\n",
       "      <td>-7.666500</td>\n",
       "    </tr>\n",
       "    <tr>\n",
       "      <th>75%</th>\n",
       "      <td>16.200750</td>\n",
       "      <td>24.051500</td>\n",
       "      <td>-3.645500</td>\n",
       "    </tr>\n",
       "    <tr>\n",
       "      <th>max</th>\n",
       "      <td>22.328000</td>\n",
       "      <td>35.255000</td>\n",
       "      <td>-1.950000</td>\n",
       "    </tr>\n",
       "  </tbody>\n",
       "</table>\n",
       "</div>"
      ],
      "text/plain": [
       "       Congruent  Incongruent  Difference\n",
       "count  24.000000    24.000000   24.000000\n",
       "mean   14.051125    22.015917   -7.964792\n",
       "std     3.559358     4.797057    4.864827\n",
       "min     8.630000    15.687000  -21.919000\n",
       "25%    11.895250    18.716750  -10.258500\n",
       "50%    14.356500    21.017500   -7.666500\n",
       "75%    16.200750    24.051500   -3.645500\n",
       "max    22.328000    35.255000   -1.950000"
      ]
     },
     "execution_count": 3,
     "metadata": {},
     "output_type": "execute_result"
    }
   ],
   "source": [
    "df.describe()"
   ]
  },
  {
   "cell_type": "markdown",
   "metadata": {},
   "source": [
    "## Question 4\n",
    "\n",
    "**Provide one or two visualizations that show the distribution of the sample data.**\n",
    "\n",
    "> *See below plots.*\n",
    "\n",
    "> The distributions for each data set are approximately normal, however due to the small sample size, they do not form a smooth curve.  Both plots have a range of values around the mean, with a slight positive skew.\n",
    "\n",
    "> A box plot shows a similar distribution.  Two outliers are identified in the Incongruent group.\n",
    "\n",
    "*Rubric:  One or two visualizations have been created that show off the data, including comments on what can be observed in the plot or plots.*"
   ]
  },
  {
   "cell_type": "code",
   "execution_count": 4,
   "metadata": {
    "collapsed": false
   },
   "outputs": [
    {
     "data": {
      "text/plain": [
       "<matplotlib.text.Text at 0x1162f3bd0>"
      ]
     },
     "execution_count": 4,
     "metadata": {},
     "output_type": "execute_result"
    },
    {
     "data": {
      "image/png": "[encoded data removed]",
      "text/plain": [
       "<matplotlib.figure.Figure at 0x11405d390>"
      ]
     },
     "metadata": {},
     "output_type": "display_data"
    }
   ],
   "source": [
    "f, (ax1, ax2) = plt.subplots(1, 2, figsize=(16,6), sharey=True)\n",
    "f.suptitle('Distribution of Stroop Test results')\n",
    "sns.distplot(df['Congruent'], ax=ax1)\n",
    "mean_c = df['Congruent'].mean()\n",
    "ax1.axvline(x=mean_c, linestyle='dotted')\n",
    "ax1.text(1, 1, 'mean=%.2f' % mean_c, transform = ax1.transAxes, ha='right', va='top')\n",
    "ax1.set_title('Congruent')\n",
    "ax1.set_xlabel('Time (s)')\n",
    "ax1.set_ylabel('Relative Freq')\n",
    "\n",
    "\n",
    "sns.distplot(df['Incongruent'], ax=ax2)\n",
    "mean_i = df['Incongruent'].mean()\n",
    "ax2.axvline(x=mean_i, linestyle='dotted')\n",
    "ax2.text(1, 1, 'mean=%.2f' % mean_i, transform = ax2.transAxes, ha='right', va='top')\n",
    "ax2.set_title('Incongruent')\n",
    "ax2.set_xlabel('Time (s)')"
   ]
  },
  {
   "cell_type": "code",
   "execution_count": 5,
   "metadata": {
    "collapsed": false
   },
   "outputs": [
    {
     "data": {
      "text/plain": [
       "<matplotlib.text.Text at 0x117484750>"
      ]
     },
     "execution_count": 5,
     "metadata": {},
     "output_type": "execute_result"
    },
    {
     "data": {
      "image/png": "[encoded data removed]",
      "text/plain": [
       "<matplotlib.figure.Figure at 0x113fdfb10>"
      ]
     },
     "metadata": {},
     "output_type": "display_data"
    }
   ],
   "source": [
    "sns.boxplot(data=df[['Congruent','Incongruent']])\n",
    "plt.title('Box plot of Stroop Test results')\n",
    "plt.ylabel('Time (s)')"
   ]
  },
  {
   "cell_type": "markdown",
   "metadata": {},
   "source": [
    "## Question 5\n",
    "**Now, perform the statistical test and report your results.  What is your confidence level and your critical statistic value?**\n",
    "> The confident level will be $95$% or $\\alpha=.05$.\n",
    "\n",
    "> The sample size is $n=24$, giving $23$ degrees of freedom.\n",
    "\n",
    "> The $t$ critical value is $1.7139$"
   ]
  },
  {
   "cell_type": "code",
   "execution_count": 6,
   "metadata": {
    "collapsed": false
   },
   "outputs": [
    {
     "name": "stdout",
     "output_type": "stream",
     "text": [
      "t-critical value = 1.7139\n"
     ]
    }
   ],
   "source": [
    "alpha = .05\n",
    "t_crit = t.ppf(q=1 - alpha, df=23)\n",
    "print 't-critical value = %.4f' % t_crit"
   ]
  },
  {
   "cell_type": "markdown",
   "metadata": {},
   "source": [
    "> Calculate the $t$ statistic value for our difference of means.\n",
    "\n",
    "> $$\\bar{x}_i\\text{ is the mean for the incongruent task}$$\n",
    "> $$\\bar{x}_c\\text{ is the mean for the congruent task}$$\n",
    "> $$s\\text{ is the standard deviation of the differences between the congruent and incongruent tasks}$$\n",
    "> $$n\\text{ is the sample size}$$\n",
    "\n",
    "\n",
    "\n",
    "\n",
    "\n",
    "> $$t=\\frac{\\bar{x}_i-\\bar{x}_c} {\\frac{s}{\\sqrt{n}}}$$\n",
    "\n",
    "> $$\\bar{x}_i=22.02$$\n",
    "> $$\\bar{x}_c=14.05$$\n",
    "> $$s=4.86$$\n",
    "> $$n=24$$\n",
    "\n",
    "> $$t=\\frac{22.02-14.05} {\\frac{4.86}{\\sqrt{24}}}$$\n",
    "> $$t=8.0207$$"
   ]
  },
  {
   "cell_type": "code",
   "execution_count": 7,
   "metadata": {
    "collapsed": false
   },
   "outputs": [
    {
     "name": "stdout",
     "output_type": "stream",
     "text": [
      "t-value = 8.0207\n"
     ]
    }
   ],
   "source": [
    "x_c = df['Congruent'].mean()\n",
    "x_i = df['Incongruent'].mean()\n",
    "n = len(df.index)\n",
    "ddof = n - 1\n",
    "s = df['Difference'].std()\n",
    "\n",
    "t_val = ((x_i - x_c) / (s / np.sqrt(n)))\n",
    "print 't-value = %.4f' % t_val"
   ]
  },
  {
   "cell_type": "markdown",
   "metadata": {},
   "source": [
    "> The test statistic value of $8.0207$ is greater than the critical value of $1.7139$.  The result should be to fail the null hypothesis.\n",
    "\n",
    "> *See the below graph for a visual representation of this statistical test.*\n",
    "\n",
    "> The computed $p$-value for this test statistic is effectively $0$.  This can be computed by taking $1 -$ the result of the cumulative distribution function value for the test statistic.\n",
    "> $$p\\text{-value} = 1 - CDF(8.0207) = 0.000000020515$$\n",
    "\n",
    "> The probability that this value is not significantly different is $0.0000020515$%."
   ]
  },
  {
   "cell_type": "code",
   "execution_count": 8,
   "metadata": {
    "collapsed": false
   },
   "outputs": [
    {
     "name": "stdout",
     "output_type": "stream",
     "text": [
      "p-value = 0.000000020515\n"
     ]
    }
   ],
   "source": [
    "print 'p-value = %.12f' % (1 - t.cdf(t_val, ddof))"
   ]
  },
  {
   "cell_type": "markdown",
   "metadata": {},
   "source": [
    "**Do you reject the null hypothesis or fail to reject it?**\n",
    "> The null hypothesis should be rejected.  The mean for the Congruent task and Incongruent task is statistically different.  The alternative hypothesis that the mean for the Congruent task is statistically less than the Incongruent task should be accepted.\n",
    "\n",
    "**Come to a conclusion in terms of the experiment task. Did the results match up with your expectations?**\n",
    "> The Incongruent task took participants significantly longer to complete compared to the Congruent task.  The expectation was that the Incongruent task was a mentally more challenging and would require more time to complete.  The results of this test support that expectation.\n",
    "\n",
    "*Rubric:  A statistical test has been correctly performed and reported, including test statistic, p-value, and test result. The test results are interpreted in terms of the experimental task performed.*"
   ]
  },
  {
   "cell_type": "code",
   "execution_count": 9,
   "metadata": {
    "collapsed": false
   },
   "outputs": [
    {
     "data": {
      "text/plain": [
       "<matplotlib.text.Text at 0x1177a9cd0>"
      ]
     },
     "execution_count": 9,
     "metadata": {},
     "output_type": "execute_result"
    },
    {
     "data": {
      "image/png": "[encoded data removed]",
      "text/plain": [
       "<matplotlib.figure.Figure at 0x113fdf610>"
      ]
     },
     "metadata": {},
     "output_type": "display_data"
    }
   ],
   "source": [
    "# plot t-distribution\n",
    "x = np.arange(-4,4,.01)\n",
    "y = t.pdf(x, ddof)\n",
    "plt.figure(figsize=(8, 4))\n",
    "plt.plot(x, y)\n",
    "\n",
    "# show t-critical value\n",
    "plt.axvline(x=t_crit)\n",
    "plt.text(t_crit, t.pdf(t_crit, ddof), 'crit val=%.4f, alpha=%.2f' % (t_crit, alpha))\n",
    "\n",
    "# shade area above critical value\n",
    "x_tc = np.arange(t_crit, 4, .01)\n",
    "y_tc = t.pdf(x_tc, ddof)\n",
    "plt.fill_between(x_tc, y_tc, alpha=.3)\n",
    "\n",
    "# plot test statistic\n",
    "plt.axvline(x=t_val)\n",
    "plt.text(t_val, .05, 'test stat=%.4f' % t_val)"
   ]
  },
  {
   "cell_type": "markdown",
   "metadata": {},
   "source": [
    "## Question 6\n",
    "\n",
    "**Optional: What do you think is responsible for the effects observed?  Can you think of an alternative or similar task that would result in a similar effect? Some research about the problem will be helpful for thinking about these two questions!**\n",
    "> I would assume that the incongruent task engages multiple parts of the brain to complete.  The language center is reading the word, but the visual (color identification) is also engaged.  When both parts of the brain come up with the same answer, everything goes smoothly.  When there is disagreement, there is an extra step to figure out which is the correct answer.\n",
    "\n",
    "> A task that might be a good extension would be to test with numbers.  The congruent test might be \"333\" -> \"Three\" or \"22\" -> \"Two\".  The incongruent would be \"44\"-\"Two\" or \"222\"->\"Three\".  Participants would state the number of digits they see.\n",
    "\n",
    "*Rubric:  Hypotheses regarding the reasons for the effect observed are presented. An extension or related experiment to the performed Stroop task is provided, that may produce similar effects.*"
   ]
  },
  {
   "cell_type": "markdown",
   "metadata": {},
   "source": [
    "## References\n",
    "\n",
    "> https://faculty.washington.edu/chudler/words.html#seffect"
   ]
  }
 ],
 "metadata": {
  "anaconda-cloud": {},
  "kernelspec": {
   "display_name": "Python [Root]",
   "language": "python",
   "name": "Python [Root]"
  },
  "language_info": {
   "codemirror_mode": {
    "name": "ipython",
    "version": 2
   },
   "file_extension": ".py",
   "mimetype": "text/x-python",
   "name": "python",
   "nbconvert_exporter": "python",
   "pygments_lexer": "ipython2",
   "version": "2.7.12"
  }
 },
 "nbformat": 4,
 "nbformat_minor": 0
}
