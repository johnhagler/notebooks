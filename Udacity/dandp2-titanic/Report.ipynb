{
 "cells": [
  {
   "cell_type": "markdown",
   "metadata": {
    "collapsed": true
   },
   "source": [
    "# P2: Investigate a Dataset\n",
    "\n",
    "## Titanic Data\n",
    "**What factors made people more likely to survive?**\n",
    "\n",
    "The disaster of the sinking of the Titanic is a well known historical event.  The detailed passenger manifest allows researchers a glimpse at the lives that were lost.  By analyzing what we know about each individual, an investigation can be conduced to understand what factors correlated with survival."
   ]
  },
  {
   "cell_type": "markdown",
   "metadata": {},
   "source": [
    "## Summary of data\n",
    "\n",
    "Below is the data available regarding the passengers of the Titanic.\n",
    "\n",
    "VARIABLE DESCRIPTIONS:\n",
    "- survival:  Survival (0 = No; 1 = Yes)\n",
    "- pclass:  Passenger Class (1 = 1st; 2 = 2nd; 3 = 3rd)\n",
    "- name:  Name\n",
    "- sex:  Sex\n",
    "- age:  Age\n",
    "- sibsp:  Number of Siblings/Spouses Aboard\n",
    "- parch:  Number of Parents/Children Aboard\n",
    "- ticket:  Ticket Number\n",
    "- fare:  Passenger Fare\n",
    "- cabin:  Cabin\n",
    "- embarked:  Port of Embarkation (C = Cherbourg; Q = Queenstown; S = Southampton)\n",
    "\n",
    "> Data source and descriptions from (https://www.kaggle.com/c/titanic/data)\n",
    "\n",
    "In all, there are 891 unique passengers listed.\n",
    "\n",
    "Several additional columns can be generated from this original data.\n",
    "- embarked_port: Name of port of passenger embarked from\n",
    "- salutation: Extracted from name, \"Mr, Mrs, etc.\"\n",
    "- passenger_group: Grouped by \"Men, Women, and Children\"\n",
    "- has_family: Whether or not the passenger has family aboard (True, False)\n",
    "\n",
    "The age feature had many missing values.  A possible solution for these missing values could be to impute the mean.  However, this would reinforce the existing mean and change the distribution of the data.  An alternative to this method is to use \"passenger_group\" feature that was created from related data.  This allows for analysis of age in more general groups, \"men, women, and children\".\n",
    "\n",
    "Data cleaning and transformation details can be seen in notebook, [Data_Cleaning.ipynb](Data_Cleaning.ipynb).\n",
    "Initial data exploration can been seen in notebook, [Data_Exploration.ipynb](Data_Exporation.ipynb)."
   ]
  },
  {
   "cell_type": "markdown",
   "metadata": {},
   "source": [
    "## Visualizations of Survivability"
   ]
  },
  {
   "cell_type": "code",
   "execution_count": 2,
   "metadata": {
    "collapsed": true
   },
   "outputs": [],
   "source": [
    "%matplotlib inline\n",
    "\n",
    "import pandas as pd\n",
    "import numpy as np\n",
    "import matplotlib.pyplot as plt\n",
    "import seaborn as sns\n",
    "from math import sqrt\n",
    "from scipy import stats\n",
    "sns.set_color_codes()"
   ]
  },
  {
   "cell_type": "code",
   "execution_count": 3,
   "metadata": {
    "collapsed": true
   },
   "outputs": [],
   "source": [
    "df = pd.read_csv('titanic_data_cleaned.csv')\n"
   ]
  },
  {
   "cell_type": "markdown",
   "metadata": {},
   "source": [
    "## Who Survived"
   ]
  },
  {
   "cell_type": "code",
   "execution_count": 4,
   "metadata": {
    "collapsed": false
   },
   "outputs": [
    {
     "data": {
      "text/plain": [
       "<matplotlib.text.Text at 0x1148e9750>"
      ]
     },
     "execution_count": 4,
     "metadata": {},
     "output_type": "execute_result"
    },
    {
     "data": {
      "image/png": "[encoded data removed]",
      "text/plain": [
       "<matplotlib.figure.Figure at 0x103dd1f90>"
      ]
     },
     "metadata": {},
     "output_type": "display_data"
    }
   ],
   "source": [
    "sns.countplot(data=df, x='Survived')\n",
    "plt.title('Count of passengers who survived or did not survive')\n",
    "plt.xticks([0, 1], ['Did not survive','Survived'])\n",
    "plt.xlabel('')\n",
    "plt.ylabel('Count of Passengers')"
   ]
  },
  {
   "cell_type": "code",
   "execution_count": 4,
   "metadata": {
    "collapsed": false
   },
   "outputs": [
    {
     "data": {
      "text/plain": [
       "0    549\n",
       "1    342\n",
       "Name: PassengerId, dtype: int64"
      ]
     },
     "execution_count": 4,
     "metadata": {},
     "output_type": "execute_result"
    }
   ],
   "source": [
    "df.groupby('Survived', as_index=False).count()['PassengerId']"
   ]
  },
  {
   "cell_type": "code",
   "execution_count": 5,
   "metadata": {
    "collapsed": false
   },
   "outputs": [
    {
     "data": {
      "text/plain": [
       "0.3838383838383838"
      ]
     },
     "execution_count": 5,
     "metadata": {},
     "output_type": "execute_result"
    }
   ],
   "source": [
    "df['Survived'].mean()"
   ]
  },
  {
   "cell_type": "markdown",
   "metadata": {},
   "source": [
    "Of the 891 passengers aboard, only 342 survived, an overall survival rate of was 38.3%."
   ]
  },
  {
   "cell_type": "markdown",
   "metadata": {},
   "source": [
    "### Socioeconomic Status"
   ]
  },
  {
   "cell_type": "code",
   "execution_count": 6,
   "metadata": {
    "collapsed": false
   },
   "outputs": [
    {
     "data": {
      "image/png": "[encoded data removed]",
      "text/plain": [
       "<matplotlib.figure.Figure at 0x11490e390>"
      ]
     },
     "metadata": {},
     "output_type": "display_data"
    }
   ],
   "source": [
    "sns.barplot(data=df, x='ses', y='Survived', order=['Upper class','Middle class','Lower class'])\n",
    "plt.title('Passenger Survivability by Socioeconomic Status')\n",
    "plt.xlabel('SES')\n",
    "plt.show()"
   ]
  },
  {
   "cell_type": "markdown",
   "metadata": {},
   "source": [
    "The above plot shows the average survivability for a passenger based their class, with a 95% confidence interval.  There appears to be a high correlation between class an survival rate.  Higher class passengers have a higher survival rate while lower class passengers have a lower survival rate."
   ]
  },
  {
   "cell_type": "markdown",
   "metadata": {},
   "source": [
    "**Question**\n",
    "\n",
    "> Did passengers in the upper class have a higher survival rate than those not in upper class?\n",
    "\n",
    "**Define groups**\n",
    "\n",
    "> **Upper Class Passengers**\n",
    "\n",
    "> $\\bar{X} = $ average survival rate for upper class\n",
    "\n",
    "> $n_X = $ number of passengers in upper class\n",
    "\n",
    "> $s_X = $ sample standard deviation of survival in upper class\n",
    "\n",
    "> **Middle and Lower Class Passengers**\n",
    "\n",
    "> $\\bar{Y} = $ average survival rate for middle and lower class\n",
    "\n",
    "> $n_Y = $ number of passengers in middle and lower class\n",
    "\n",
    "> $s_Y = $ sample standard deviation of survival in middle and lower class\n",
    "\n",
    "**Null Hypothesis**:  The sample means are equal.  There is no significant difference in survivability between the groups.\n",
    "\n",
    "> $ H_0: \\bar{X} = \\bar{Y} $\n",
    "\n",
    "**Alternative Hypothesis**:  The mean survivability for $X$ (upper class) will be greater than $Y$ (those not in upper class).\n",
    "\n",
    "> $ H_A: \\bar{X} > \\bar{Y} $$\n",
    "\n",
    "Compute sample statistics"
   ]
  },
  {
   "cell_type": "code",
   "execution_count": 32,
   "metadata": {
    "collapsed": false
   },
   "outputs": [
    {
     "data": {
      "text/html": [
       "<div>\n",
       "<table border=\"1\" class=\"dataframe\">\n",
       "  <thead>\n",
       "    <tr>\n",
       "      <th></th>\n",
       "      <th colspan=\"2\" halign=\"left\">PassengerId</th>\n",
       "    </tr>\n",
       "    <tr>\n",
       "      <th>Survived</th>\n",
       "      <th>0</th>\n",
       "      <th>1</th>\n",
       "    </tr>\n",
       "    <tr>\n",
       "      <th>ses</th>\n",
       "      <th></th>\n",
       "      <th></th>\n",
       "    </tr>\n",
       "  </thead>\n",
       "  <tbody>\n",
       "    <tr>\n",
       "      <th>Lower class</th>\n",
       "      <td>372</td>\n",
       "      <td>119</td>\n",
       "    </tr>\n",
       "    <tr>\n",
       "      <th>Middle class</th>\n",
       "      <td>97</td>\n",
       "      <td>87</td>\n",
       "    </tr>\n",
       "    <tr>\n",
       "      <th>Upper class</th>\n",
       "      <td>80</td>\n",
       "      <td>136</td>\n",
       "    </tr>\n",
       "  </tbody>\n",
       "</table>\n",
       "</div>"
      ],
      "text/plain": [
       "             PassengerId     \n",
       "Survived               0    1\n",
       "ses                          \n",
       "Lower class          372  119\n",
       "Middle class          97   87\n",
       "Upper class           80  136"
      ]
     },
     "execution_count": 32,
     "metadata": {},
     "output_type": "execute_result"
    }
   ],
   "source": [
    "df_chi = pd.pivot_table(df, values=['PassengerId'], index=['ses'], columns=['Survived'], aggfunc='count')\n",
    "df_chi"
   ]
  },
  {
   "cell_type": "markdown",
   "metadata": {},
   "source": [
    "**Contincency Table**\n",
    "\n",
    "||Did not survive|Survived:|Total:|\n",
    "|-|-|-|\n",
    "|Upper class|372|119|491|\n",
    "|Middle class|97|87|184|\n",
    "|Lower class|80|136|216|\n",
    "|Total|549|342|891|\n"
   ]
  },
  {
   "cell_type": "code",
   "execution_count": 31,
   "metadata": {
    "collapsed": false
   },
   "outputs": [
    {
     "name": "stdout",
     "output_type": "stream",
     "text": [
      "chi2 = 102.888988757\n",
      "p = 4.5492517113e-23\n"
     ]
    }
   ],
   "source": [
    "chi2, p, ddof, expected = stats.chi2_contingency(df_chi.values)\n",
    "print 'chi2 = %s' % chi2\n",
    "print 'p = %s' % p\n"
   ]
  },
  {
   "cell_type": "code",
   "execution_count": 7,
   "metadata": {
    "collapsed": false
   },
   "outputs": [
    {
     "name": "stdout",
     "output_type": "stream",
     "text": [
      "Sample size for x:  n_X = 216\n",
      "Sample mean for x:  x_bar = 0.6296\n",
      "Sample std dev for x:  s_x = 0.4840\n"
     ]
    }
   ],
   "source": [
    "n_X = df[df['Pclass'] == 1].count()['Survived']\n",
    "x_bar = df[df['Pclass'] == 1].mean()['Survived']\n",
    "s_x = df[df['Pclass'] == 1].std()['Survived']\n",
    "\n",
    "print 'Sample size for x:  n_X = %s' % n_X\n",
    "print 'Sample mean for x:  x_bar = %.4f' % x_bar\n",
    "print 'Sample std dev for x:  s_x = %.4f' % s_x"
   ]
  },
  {
   "cell_type": "code",
   "execution_count": 8,
   "metadata": {
    "collapsed": false
   },
   "outputs": [
    {
     "name": "stdout",
     "output_type": "stream",
     "text": [
      "Sample size for Y:  b_Y = 675\n",
      "Sample mean for Y:  Y_bar = 0.3052\n",
      "Sample std dev for Y:  s_Y = 0.4608\n"
     ]
    }
   ],
   "source": [
    "n_Y = df[df['Pclass'] <> 1].count()['Survived']\n",
    "y_bar = df[df['Pclass'] <> 1].mean()['Survived']\n",
    "s_y = df[df['Pclass'] <> 1].std()['Survived']\n",
    "\n",
    "print 'Sample size for Y:  b_Y = %s' % n_Y\n",
    "print 'Sample mean for Y:  Y_bar = %.4f' % y_bar\n",
    "print 'Sample std dev for Y:  s_Y = %.4f' % s_y"
   ]
  },
  {
   "cell_type": "markdown",
   "metadata": {},
   "source": [
    "Because the sample sizes for each group are large ($> 30$), an unpaired $t$-test is appropriate.  An $\\alpha=.05$ significance level will be used.\n",
    "\n",
    "Calculate the $t$ statistic for two independent samples value using pooled variance\n",
    "\n",
    "$$ s^2_P = \\frac {(n_X - 1)s^2_X + (n_Y - 1)s^2_Y } { n_X + n_Y - 2 }  $$\n",
    "\n",
    "$$ t =   \\frac{ \\bar{X}-\\bar{Y} }   { s_P \\sqrt{ \\frac{1}{n_X} + \\frac{1}{n_Y} } }$$"
   ]
  },
  {
   "cell_type": "code",
   "execution_count": 9,
   "metadata": {
    "collapsed": false
   },
   "outputs": [
    {
     "name": "stdout",
     "output_type": "stream",
     "text": [
      "t-critical value = 1.6466\n",
      "t-value = 8.8959\n",
      "p-value = 1.59529112088e-18\n"
     ]
    }
   ],
   "source": [
    "# calculate t-critical value\n",
    "t_crit = stats.t.isf(.05, n_X+n_Y-2)\n",
    "print 't-critical value = %.4f' % t_crit\n",
    "\n",
    "# calculate t-value\n",
    "s2_p = (  ((n_X-1)*s_x**2) + ((n_Y-1)*s_y**2)  )  /  ( n_X+n_Y-2 )\n",
    "t = (x_bar - y_bar) / (sqrt(s2_p)* sqrt( 1./n_X + 1./n_Y ) ) \n",
    "print 't-value = %.4f' %t\n",
    "\n",
    "# calculate p-value (one-tailed)\n",
    "p = stats.t.sf(t, n_X+n_Y-2)\n",
    "print 'p-value = %s' % p"
   ]
  },
  {
   "cell_type": "markdown",
   "metadata": {},
   "source": [
    "Below is a visual of the results of the $t$-test."
   ]
  },
  {
   "cell_type": "code",
   "execution_count": 10,
   "metadata": {
    "collapsed": false
   },
   "outputs": [
    {
     "data": {
      "image/png": "[encoded data removed]",
      "text/plain": [
       "<matplotlib.figure.Figure at 0x1171b4150>"
      ]
     },
     "metadata": {},
     "output_type": "display_data"
    }
   ],
   "source": [
    "def t_plot(t_value, alpha, df):\n",
    "\n",
    "    # plot the probability distribution function for t\n",
    "    x = np.arange(-4, 4, .01)\n",
    "    y = stats.t.pdf(x, df)\n",
    "    \n",
    "    plt.plot(x, y)\n",
    "    plt.axvline(x=0, linestyle='dotted')\n",
    "    \n",
    "    # polt a vertical line for the t-critical value and shade the area below the curve\n",
    "    t_crit = stats.t.isf(.05, df)\n",
    "    plt.axvline(x=t_crit, color=sns.color_palette()[2])\n",
    "    \n",
    "    x_crit = np.arange(t_crit, 4, .01)\n",
    "    y_crit = stats.t.pdf(x_crit, df)\n",
    "    \n",
    "    plt.fill_between(x_crit, y_crit, alpha=.3, color=sns.color_palette()[2])\n",
    "    \n",
    "    plt.text(x_crit[0], y_crit[0], ' alpha=%.2f, t-crit=%.4f' % (alpha,t_crit))\n",
    "    \n",
    "    # plot a vertical line for the t-value\n",
    "    plt.axvline(x=t)\n",
    "    p_value = stats.t.sf(t_value, df)\n",
    "    plt.text(t_value, 0, ' p-value=%.4f,  t-value=%.4f' % (p_value, t_value))\n",
    "    \n",
    "\n",
    "t_plot(t_value=t, alpha=.05, df=n_X+n_Y-2)\n"
   ]
  },
  {
   "cell_type": "markdown",
   "metadata": {},
   "source": [
    "The one-tailed critical value for $t$ at an $\\alpha$ level of $.05$ with $n_X+n_Y-2=889$ degrees of freedom, is $1.6466$.\n",
    "\n",
    "The calculated $t$-value is $8.8958$.  The null hypothesis should be rejected.  Since $8.8958 > 1.6466$, the alternative hypothesis should be accepted.\n",
    "\n",
    "**Conclusion**\n",
    "\n",
    "Upper class passengers had a significantly higher survival rate compared to those not in upper class."
   ]
  },
  {
   "cell_type": "markdown",
   "metadata": {},
   "source": [
    "**Further analysis**\n",
    "\n",
    "The SciPy package can also calculate a two-sample independent $t$-test."
   ]
  },
  {
   "cell_type": "code",
   "execution_count": 11,
   "metadata": {
    "collapsed": false
   },
   "outputs": [
    {
     "data": {
      "text/plain": [
       "Ttest_indResult(statistic=8.8958643935890809, pvalue=3.1905822417529014e-18)"
      ]
     },
     "execution_count": 11,
     "metadata": {},
     "output_type": "execute_result"
    }
   ],
   "source": [
    "# calculate t test result using scipy\n",
    "stats.ttest_ind(df[df['Pclass'] == 1]['Survived'], df[df['Pclass'] <> 1]['Survived'])"
   ]
  },
  {
   "cell_type": "markdown",
   "metadata": {},
   "source": [
    "Same test stastitic is is returned.  *Note: P-value shown is for a two-tailed test.*"
   ]
  },
  {
   "cell_type": "markdown",
   "metadata": {},
   "source": [
    "**Computing the Mann-Whitney U test result**\n",
    "\n",
    "The non-parametric Mann-Whitney U test can also be performed to evaluate if the two samples were pulled from the same distribution.\n",
    "\n",
    "Mann-Whitney U Test:\n",
    "\n",
    "**Null hypothesis** The probability that the survivability of group X is greater than Y is .5.  More simply stated, it is equally likely that values of X are as big as the values of Y indicating no difference.\n",
    "$$ H_0: P(X>Y) = 0.5 $$\n",
    "\n",
    "**Alternative hypothesis** It is not equally likely that X will be greater than Y, indicating that the set of values in X is different that the set of values that make up Y.\n",
    "$$ H_A: P(X>Y) \\ne 0.5 $$\n",
    "\n",
    "Sample size is large so we can standardize to a z score\n",
    "$$ \\mu_U = \\frac{n_X n_Y}{2} $$ \n",
    "$$ \\sigma_U = \\frac{n_X n_Y(n_X+n_Y+1)}{12} $$\n",
    "$$ z = \\frac{U - \\mu_U}{\\sigma_U} $$"
   ]
  },
  {
   "cell_type": "code",
   "execution_count": 12,
   "metadata": {
    "collapsed": false
   },
   "outputs": [
    {
     "name": "stdout",
     "output_type": "stream",
     "text": [
      "U value = 96552\n",
      "p-value = 7.37141042425e-18\n"
     ]
    }
   ],
   "source": [
    "U, p_U = stats.mannwhitneyu(df[df['Pclass'] == 1]['Survived'], df[df['Pclass'] <> 1]['Survived'], alternative='greater')\n",
    "print 'U value = %.f' % U\n",
    "print 'p-value = %s' % p_U"
   ]
  },
  {
   "cell_type": "code",
   "execution_count": 13,
   "metadata": {
    "collapsed": false
   },
   "outputs": [
    {
     "name": "stdout",
     "output_type": "stream",
     "text": [
      "mu_U = 72900.0000\n",
      "sigma_U = 4051.4997\n",
      "z = 5.8378\n"
     ]
    }
   ],
   "source": [
    "mu_U = (n_X*n_Y)/2\n",
    "print 'mu_U = %.4f' % mu_U\n",
    "\n",
    "sigma_U = sqrt( (n_X*n_Y * (n_Y+n_Y+1))  /  12 )\n",
    "print 'sigma_U = %.4f'% sigma_U\n",
    "\n",
    "z = (U - mu_U) / sigma_U\n",
    "print 'z = %.4f' % z"
   ]
  },
  {
   "cell_type": "markdown",
   "metadata": {},
   "source": [
    "At $\\alpha=.05$, the $z$-critical value for a one tailed test is 1.96.  The standardized $z$-value for the Mann-Whitney U result is 5.8378, which is greater than the critical value."
   ]
  },
  {
   "cell_type": "markdown",
   "metadata": {},
   "source": [
    "The Mann-Whitney U test indicates the same result as the $t$ test.  The probability that the values in X are larger than the values from Y is greater than 50%.  Survivability for the upper class passengers is greater than those not in upper class."
   ]
  },
  {
   "cell_type": "markdown",
   "metadata": {},
   "source": [
    "### Family Groups"
   ]
  },
  {
   "cell_type": "code",
   "execution_count": 27,
   "metadata": {
    "collapsed": false
   },
   "outputs": [
    {
     "data": {
      "image/png": "[encoded data removed]",
      "text/plain": [
       "<matplotlib.figure.Figure at 0x114790490>"
      ]
     },
     "metadata": {},
     "output_type": "display_data"
    }
   ],
   "source": [
    "sns.factorplot(data=df, x='has_family', y='Survived', kind='bar')\n",
    "plt.title('Survivability if passenger has famliy aboard')\n",
    "plt.xticks([False, True],['No Family Aboard','Has Family Aboard'])\n",
    "plt.xlabel('')\n",
    "plt.ylabel('Survival Rate')\n",
    "plt.show()"
   ]
  },
  {
   "cell_type": "markdown",
   "metadata": {},
   "source": [
    "The above plot shows whether or not the passenger had family aboard the Titanic.  It appears that having family aboard is correlated with a higher survival rate.  A $t$ test can confirm this hypothesis."
   ]
  },
  {
   "cell_type": "markdown",
   "metadata": {},
   "source": [
    "**Question**\n",
    "\n",
    ">Does having family aboard result in a different average survival rate?\n",
    "\n",
    "**Define groups**\n",
    "\n",
    "> **Passengers without family aboard**\n",
    "\n",
    "> $\\bar{X} = $ average survival rate for passengers without family aboard\n",
    "\n",
    "> $n_X = $ number of passengers without family aboard\n",
    "\n",
    "> $s_X = $ sample standard deviation of survival of passengers without family aboard\n",
    "\n",
    "> **Passengers with family aboard**\n",
    "\n",
    "> $\\bar{Y} = $ average survival rate for passengers with family aboard\n",
    "\n",
    "> $n_Y = $ number of passengers with family aboard\n",
    "\n",
    "> $s_Y = $ sample standard deviation of survival of passengers with family aboard\n",
    "\n",
    "**Null Hypothesis**:  The sample means are equal.  There is no significant difference in survivability between the groups.\n",
    "\n",
    "> $ H_0: \\bar{X} = \\bar{Y} $\n",
    "\n",
    "**Alternative Hypothesis**:  The mean survivability for $X$ (without family) will be less than $Y$ (with family).\n",
    "\n",
    "> $ H_A: \\bar{X} < \\bar{Y} $\n",
    "\n",
    "**Critical Values**\n",
    "> $\\alpha=.05$\n",
    "\n",
    "> $t$-critical = $-1.6466$  (one-tailed test at 889 degrees of freedom)\n",
    "\n",
    "Compute sample statistics"
   ]
  },
  {
   "cell_type": "code",
   "execution_count": 15,
   "metadata": {
    "collapsed": false
   },
   "outputs": [
    {
     "name": "stdout",
     "output_type": "stream",
     "text": [
      "t-value = -6.1930\n",
      "p-value (one-tail) = 1.80189803587e-09\n"
     ]
    }
   ],
   "source": [
    "# calculate t test result using scipy\n",
    "(t, p) = stats.ttest_ind(df[df['has_family'] == False]['Survived'], df[df['has_family'] == True]['Survived'])\n",
    "print 't-value = %.4f' % t\n",
    "print 'p-value (one-tail) = %s' % (p*2)"
   ]
  },
  {
   "cell_type": "markdown",
   "metadata": {},
   "source": [
    "The computed $t$-value is less than the $t$-critical value.  The null hypothesis should be rejected, and the alternative should be accepted.\n",
    "\n",
    "**Conclusion**\n",
    "\n",
    "> The survivability rate for passengers without family aboard is significantly lower than passengers with family aboard."
   ]
  },
  {
   "cell_type": "markdown",
   "metadata": {},
   "source": [
    "### Further analysis of family groups\n",
    "By adding a secondary dimension of \"passenger_group\" (segmented by men, women, and children), the analysis that having family members aboard seems to be localized to children."
   ]
  },
  {
   "cell_type": "code",
   "execution_count": 29,
   "metadata": {
    "collapsed": false
   },
   "outputs": [
    {
     "data": {
      "image/png": "[encoded data removed]",
      "text/plain": [
       "<matplotlib.figure.Figure at 0x11750d8d0>"
      ]
     },
     "metadata": {},
     "output_type": "display_data"
    }
   ],
   "source": [
    "sns.barplot(data=df, x='passenger_group', y='Survived', hue='has_family')\n",
    "plt.title('Passenger Survivability by Family and Passenger Group')\n",
    "plt.ylabel('Survival Rate')\n",
    "plt.xlabel('')\n",
    "plt.legend(title='Has Family Aboard?')\n",
    "plt.show()"
   ]
  },
  {
   "cell_type": "code",
   "execution_count": null,
   "metadata": {
    "collapsed": true
   },
   "outputs": [],
   "source": []
  },
  {
   "cell_type": "markdown",
   "metadata": {},
   "source": [
    "Looking at a plot of whether or not the passenger has family aboard, individuals traveling with family had a higher survival rate.  When combined with if the passenger was a man, women, or child, the effect is mixed.  Men and women had similar survival rates whether or not they were traveling in family groups.  Children without families were more likely to survive."
   ]
  },
  {
   "cell_type": "markdown",
   "metadata": {},
   "source": [
    "Statistical tests can be conducted within these groups.\n",
    "\n",
    "1. Men with family vs men without family\n",
    "2. Women with family vs women without family\n",
    "3. Children with family vs children without family\n",
    "\n",
    "In the following statistical tests, let $X$ represent the group without family and $Y$ the group with family.\n",
    "\n",
    "**Null hypothesis**\n",
    "\n",
    "$H_0: \\bar{X} = \\bar{Y}$\n",
    "\n",
    "**Alternative hypothesis**\n",
    "\n",
    "$H_A: \\bar{X} \\ne \\bar{Y}$"
   ]
  },
  {
   "cell_type": "markdown",
   "metadata": {},
   "source": [
    "#### 1. Men with/without family"
   ]
  },
  {
   "cell_type": "code",
   "execution_count": 17,
   "metadata": {
    "collapsed": false
   },
   "outputs": [
    {
     "name": "stdout",
     "output_type": "stream",
     "text": [
      "t-value = -0.4484\n",
      "p-value = 0.6540\n",
      "t-critical value +/- 1.9644\n"
     ]
    }
   ],
   "source": [
    "men_without_family = df[(df['passenger_group'] == 'Men') & (df['has_family'] == False)]['Survived']\n",
    "men_with_family = df[(df['passenger_group'] == 'Men') & (df['has_family'] == True)]['Survived']\n",
    "\n",
    "(t, p) = stats.ttest_ind(men_without_family, men_with_family)\n",
    "print 't-value = %.4f' % t\n",
    "print 'p-value = %.4f' % p\n",
    "\n",
    "t_crit = stats.t.isf(.025, len(men_without_family)+len(men_with_family)-2)\n",
    "print 't-critical value +/- %.4f' % t_crit\n"
   ]
  },
  {
   "cell_type": "markdown",
   "metadata": {},
   "source": [
    "The $t$ value is $-1.9644 < -0.4484 < 1.9644$.  The null hypothesis should be accepted.\n",
    "\n",
    "**Conclusion**\n",
    "\n",
    "> There is no significant difference between men with family aboard and men without family aboard."
   ]
  },
  {
   "cell_type": "markdown",
   "metadata": {},
   "source": [
    "#### 2. Women with/without family"
   ]
  },
  {
   "cell_type": "code",
   "execution_count": 18,
   "metadata": {
    "collapsed": false
   },
   "outputs": [
    {
     "name": "stdout",
     "output_type": "stream",
     "text": [
      "t-value = 0.1150\n",
      "p-value = 0.9086\n",
      "t-critical value +/- 1.9706\n"
     ]
    }
   ],
   "source": [
    "women_without_family = df[(df['passenger_group'] == 'Women') & (df['has_family'] == False)]['Survived']\n",
    "women_with_family = df[(df['passenger_group'] == 'Women') & (df['has_family'] == True)]['Survived']\n",
    "\n",
    "(t, p) = stats.ttest_ind(women_without_family, women_with_family)\n",
    "print 't-value = %.4f' % t\n",
    "print 'p-value = %.4f' % p\n",
    "\n",
    "t_crit = stats.t.isf(.025, len(women_without_family)+len(women_with_family)-2)\n",
    "print 't-critical value +/- %.4f' % t_crit"
   ]
  },
  {
   "cell_type": "markdown",
   "metadata": {},
   "source": [
    "The $t$ value is $-1.9706 < -0.9086 < 1.9706$.  The null hypothesis should be accepted.\n",
    "\n",
    "**Conclusion**\n",
    "\n",
    "> There is no significant difference between women with family aboard and women without family aboard."
   ]
  },
  {
   "cell_type": "markdown",
   "metadata": {},
   "source": [
    "#### 3. Children with/without family"
   ]
  },
  {
   "cell_type": "code",
   "execution_count": 19,
   "metadata": {
    "collapsed": false
   },
   "outputs": [
    {
     "name": "stdout",
     "output_type": "stream",
     "text": [
      "t-value = 2.3136\n",
      "p-value = 0.0223\n",
      "t-critical value +/- 1.9791\n"
     ]
    }
   ],
   "source": [
    "children_without_family = df[(df['passenger_group'] == 'Children') & (df['has_family'] == False)]['Survived']\n",
    "children_with_family = df[(df['passenger_group'] == 'Children') & (df['has_family'] == True)]['Survived']\n",
    "\n",
    "(t, p) = stats.ttest_ind(children_without_family, children_with_family)\n",
    "print 't-value = %.4f' % t\n",
    "print 'p-value = %.4f' % p\n",
    "\n",
    "t_crit = stats.t.isf(.025, len(children_without_family)+len(children_with_family)-2)\n",
    "print 't-critical value +/- %.4f' % t_crit"
   ]
  },
  {
   "cell_type": "markdown",
   "metadata": {},
   "source": [
    "The $t$ value is $-1.9791 < 2.3136 \\nless 1.9791$.  The null hypothesis should be rejected.\n",
    "\n",
    "**Conclusion**\n",
    "\n",
    "> There is a significant difference between children with family aboard and children without family aboard."
   ]
  },
  {
   "cell_type": "markdown",
   "metadata": {
    "collapsed": false
   },
   "source": [
    "### Age\n",
    "While there are missing values for age for several passengers, those individuals can be removed from the data set for analysis of the remainders.  The age of the passenger can be compared the individuals survivability through a violin plot which shows the distributions."
   ]
  },
  {
   "cell_type": "code",
   "execution_count": 31,
   "metadata": {
    "collapsed": false
   },
   "outputs": [
    {
     "data": {
      "text/plain": [
       "<matplotlib.text.Text at 0x118431b10>"
      ]
     },
     "execution_count": 31,
     "metadata": {},
     "output_type": "execute_result"
    },
    {
     "data": {
      "image/png": "[encoded data removed]",
      "text/plain": [
       "<matplotlib.figure.Figure at 0x114b20410>"
      ]
     },
     "metadata": {},
     "output_type": "display_data"
    }
   ],
   "source": [
    "df_age = df[df['Age'].notnull()]\n",
    "sns.violinplot(data=df_age, x='Survived', y='Age', linewidth=3)\n",
    "plt.xticks([0, 1], ['Did not survive','Survived'])\n",
    "plt.xlabel('')\n",
    "plt.title('Distribution of Ages and Survived')"
   ]
  },
  {
   "cell_type": "code",
   "execution_count": 21,
   "metadata": {
    "collapsed": false
   },
   "outputs": [
    {
     "name": "stdout",
     "output_type": "stream",
     "text": [
      "Mean age (did not survive) = 30.63\n",
      "Mean age (survived) = 28.34\n",
      "Difference of means = 2.28\n"
     ]
    }
   ],
   "source": [
    "x_bar = df_age[df_age['Survived'] == 0].mean()['Age']\n",
    "print 'Mean age (did not survive) = %.2f' % x_bar\n",
    "y_bar = df_age[df_age['Survived'] == 1].mean()['Age']\n",
    "print 'Mean age (survived) = %.2f' % y_bar\n",
    "\n",
    "print 'Difference of means = %.2f' % (x_bar - y_bar)"
   ]
  },
  {
   "cell_type": "markdown",
   "metadata": {},
   "source": [
    "Visually, the distributions and centers of each distribution appear to be equal.  A $t$ test can confirm that the means of each group are not statistically different.\n",
    "\n",
    "Let $X$ represent the age of passengers who did not survive, and $Y$ represent age of passengers who survived.\n",
    "\n",
    "**Null hypothesis**\n",
    "\n",
    "$ H_0: \\bar{X} = \\bar{Y} $  The mean age of passengers between the two groups is the same.\n",
    "\n",
    "**Alternative hypothesis**\n",
    "\n",
    "$ H_A: \\bar{X} \\ne \\bar{Y} $  The mean age of passengers between the two groups is not the same."
   ]
  },
  {
   "cell_type": "code",
   "execution_count": 22,
   "metadata": {
    "collapsed": false
   },
   "outputs": [
    {
     "name": "stdout",
     "output_type": "stream",
     "text": [
      "t-value = 2.0667\n",
      "p-value = 0.0391\n",
      "t-critical value +/- 1.9633\n"
     ]
    }
   ],
   "source": [
    "age_not_survived = df_age[(df_age['Survived'] == 0)]['Age']\n",
    "age_survived = df_age[(df_age['Survived'] == 1)]['Age']\n",
    "\n",
    "(t, p) = stats.ttest_ind(age_not_survived, age_survived)\n",
    "print 't-value = %.4f' % t\n",
    "print 'p-value = %.4f' % p\n",
    "\n",
    "t_crit = stats.t.isf(.025, len(age_not_survived)+len(age_survived)-2)\n",
    "print 't-critical value +/- %.4f' % t_crit\n"
   ]
  },
  {
   "cell_type": "markdown",
   "metadata": {},
   "source": [
    "The $t$ value is $-1.9633 < 2.0667 \\nless 1.9633$.  The null hypothesis should be rejected and the alternative accepted.  \n",
    "\n",
    "**Conclusion**\n",
    "\n",
    "> The average age of passengers who did not survive is statistically different from the average age of passengers who survived.  While the difference in means is only $2.28$ years, the difference is statistically significant, although not particularly interesting."
   ]
  },
  {
   "cell_type": "markdown",
   "metadata": {},
   "source": [
    "# Conclusions\n",
    "\n",
    "Several factors that were significantly correlated with survivability were socioeconomic class, whether or not the passenger had family aboard, and if the passenger was a man, woman, or child.  Passengers in upper class had a significantly higher survivability rate.  When analyzing if the passenger had family aboard, those that did had a higher survivability rate.  However, when combined if the passenger was a man, woman, or child, the correlation was isolated to children.  Men and women with or with family aboard had similar survival rates.  Children with out family aboard had a significantly different survival rate than those with family aboard.  When age was investigated, the mean age of survivors was statistically different from those who did not survive.  However, the difference of means was only 2.28 years.\n",
    "\n",
    "This analysis shows a correlation between specific features or groups of features and survivability.  None of these findings can indicate a causal relations.  For example, being in upper class did not *cause* a passenger to survive.\n",
    "\n",
    "**Feedback**\n",
    "Results are clearly presented but there should be also a discussion with the shortcoming and limitations identified in your dataset, for example, Age column includes several missing values, how this affected your analysis? does it include any limitation? how did you handle these missing values?, did you consider alternative methods?,etc.\n"
   ]
  },
  {
   "cell_type": "markdown",
   "metadata": {},
   "source": [
    "# References\n",
    "> https://www.kaggle.com/c/titanic/data\n",
    "\n",
    "> https://www.encyclopedia-titanica.org/titanic-deckplans/d-deck.html\n",
    "\n",
    "> https://www.kaggle.com/c/titanic/forums/t/2955/how-do-you-cope-with-missing-values\n",
    "\n",
    "> https://www.kaggle.com/mrisdal/titanic/exploring-survival-on-the-titanic/discussion\n",
    "\n",
    "> https://www.analyticsvidhya.com/blog/2015/10/inferential-descriptive-statistics-beginners-r/"
   ]
  }
 ],
 "metadata": {
  "anaconda-cloud": {},
  "kernelspec": {
   "display_name": "Python [Root]",
   "language": "python",
   "name": "Python [Root]"
  },
  "language_info": {
   "codemirror_mode": {
    "name": "ipython",
    "version": 2
   },
   "file_extension": ".py",
   "mimetype": "text/x-python",
   "name": "python",
   "nbconvert_exporter": "python",
   "pygments_lexer": "ipython2",
   "version": "2.7.12"
  }
 },
 "nbformat": 4,
 "nbformat_minor": 0
}
